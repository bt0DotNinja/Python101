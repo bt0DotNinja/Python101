{
 "cells": [
  {
   "cell_type": "markdown",
   "metadata": {},
   "source": [
    "# Python (3) 101\n",
    "\n",
    "\n",
    "## Introduciendo Jupyter notebooks\n",
    "\n",
    "* shift + enter\n",
    "* Tab\n",
    "\n",
    "##  Tipos de datos\n",
    "\n",
    "* Falso y verdadero (booleano)\n",
    "* Numeros\n",
    "* Cadenas\n",
    "\n",
    "## Operadores\n",
    "\n",
    "* Comentario\n",
    "* Suma\n",
    "* Resta\n",
    "* Multiplicación\n",
    "* División\n",
    "* Modulo\n",
    "* Exponenciación\n",
    "* Parentesis\n",
    "\n",
    "\n"
   ]
  },
  {
   "cell_type": "code",
   "execution_count": null,
   "metadata": {},
   "outputs": [],
   "source": [
    "# comentario"
   ]
  },
  {
   "cell_type": "code",
   "execution_count": null,
   "metadata": {},
   "outputs": [],
   "source": []
  }
 ],
 "metadata": {
  "kernelspec": {
   "display_name": "Python 3",
   "language": "python",
   "name": "python3"
  },
  "language_info": {
   "codemirror_mode": {
    "name": "ipython",
    "version": 3
   },
   "file_extension": ".py",
   "mimetype": "text/x-python",
   "name": "python",
   "nbconvert_exporter": "python",
   "pygments_lexer": "ipython3",
   "version": "3.6.6"
  }
 },
 "nbformat": 4,
 "nbformat_minor": 2
}
